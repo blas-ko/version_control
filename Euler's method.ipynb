{
 "cells": [
  {
   "cell_type": "markdown",
   "metadata": {},
   "source": [
    "# ODE Resolver "
   ]
  },
  {
   "cell_type": "markdown",
   "metadata": {},
   "source": [
    "## Euler's Method"
   ]
  },
  {
   "cell_type": "markdown",
   "metadata": {},
   "source": [
    "Sea la ODE\n",
    " $$ \\dot{x(t)} = f(x(t),t) $$\n",
    " \n",
    "podemos discretizar a \n",
    " $$ x_{n+1} = x_n + h \\ f(x_n,t_n) $$ \n",
    " "
   ]
  },
  {
   "cell_type": "code",
   "execution_count": 2,
   "metadata": {
    "collapsed": false
   },
   "outputs": [
    {
     "data": {
      "text/plain": [
       "euler (generic function with 2 methods)"
      ]
     },
     "execution_count": 2,
     "metadata": {},
     "output_type": "execute_result"
    }
   ],
   "source": [
    "function euler(x,f,h)\n",
    "    return x + h.*f(x)\n",
    "end"
   ]
  },
  {
   "cell_type": "code",
   "execution_count": 60,
   "metadata": {
    "collapsed": false
   },
   "outputs": [
    {
     "data": {
      "text/plain": [
       "integrador (generic function with 4 methods)"
      ]
     },
     "execution_count": 60,
     "metadata": {},
     "output_type": "execute_result"
    }
   ],
   "source": [
    "function integrador(x,f::Function,t_f::Real,h=.001)\n",
    "    T = collect(0:h:t_f)\n",
    "    X = zeros(length(T),length(x))\n",
    "    X[1,:] = x\n",
    "    \n",
    "    for i in 2:length(T)\n",
    "        X[i] = euler(X[i-1],f,h)\n",
    "    end\n",
    "    \n",
    "    return T, X\n",
    "end"
   ]
  },
  {
   "cell_type": "markdown",
   "metadata": {},
   "source": [
    "###  Example (Armonic Oscilator)"
   ]
  },
  {
   "cell_type": "markdown",
   "metadata": {},
   "source": [
    "El oscilador armónico está dado por \n",
    " $$ \\ddot{x} = -\\frac{k}{m} x $$\n",
    "\n",
    "Si $v_x = \\dot{x}$, entonces\n",
    " \\begin{array}\n",
    "  \\dot{x} &=& v_x \\\\ \n",
    "  \\dot{v_x} &=& -\\omega^2 x \\\\\n",
    " \\end{array}"
   ]
  }
 ],
 "metadata": {
  "kernelspec": {
   "display_name": "Julia 0.4.2-pre",
   "language": "julia",
   "name": "julia-0.4"
  },
  "language_info": {
   "file_extension": ".jl",
   "mimetype": "application/julia",
   "name": "julia",
   "version": "0.4.2"
  }
 },
 "nbformat": 4,
 "nbformat_minor": 0
}
