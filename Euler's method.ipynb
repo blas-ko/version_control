{
 "cells": [
  {
   "cell_type": "markdown",
   "metadata": {},
   "source": [
    "# ODE Resolver "
   ]
  },
  {
   "cell_type": "markdown",
   "metadata": {},
   "source": [
    "## Euler's Method"
   ]
  },
  {
   "cell_type": "markdown",
   "metadata": {},
   "source": [
    "Sea la ODE\n",
    " $$ \\dot{x(t)} = f(x(t),t) $$\n",
    " \n",
    "podemos discretizar a \n",
    " $$ x_{n+1} = x_n + h \\ f(x_n,t_n) $$ \n",
    " "
   ]
  },
  {
   "cell_type": "code",
   "execution_count": 2,
   "metadata": {
    "collapsed": false
   },
   "outputs": [
    {
     "data": {
      "text/plain": [
       "euler (generic function with 2 methods)"
      ]
     },
     "execution_count": 2,
     "metadata": {},
     "output_type": "execute_result"
    }
   ],
   "source": [
    "function euler(x,f,h)\n",
    "    return x + h.*f(x)\n",
    "end"
   ]
  },
  {
   "cell_type": "code",
   "execution_count": 58,
   "metadata": {
    "collapsed": false
   },
   "outputs": [
    {
     "data": {
      "text/plain": [
       "integrador (generic function with 2 methods)"
      ]
     },
     "execution_count": 58,
     "metadata": {},
     "output_type": "execute_result"
    }
   ],
   "source": [
    "function integrador(x,f,t_f,h=.001)\n",
    "    T = collect(0:h:t_f)\n",
    "    X = zeros(length(T),length(x))\n",
    "    X[1] = x\n",
    "    \n",
    "    for i in 2:length(T)\n",
    "        X[i] = X[:,i-1] + h*f(X[:,i-1])\n",
    "    end\n",
    "    \n",
    "    return T, X\n",
    "end"
   ]
  }
 ],
 "metadata": {
  "kernelspec": {
   "display_name": "Julia 0.4.2-pre",
   "language": "julia",
   "name": "julia-0.4"
  },
  "language_info": {
   "file_extension": ".jl",
   "mimetype": "application/julia",
   "name": "julia",
   "version": "0.4.2"
  }
 },
 "nbformat": 4,
 "nbformat_minor": 0
}
